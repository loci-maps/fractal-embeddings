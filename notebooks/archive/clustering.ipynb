{
 "cells": [
  {
   "cell_type": "code",
   "execution_count": 2,
   "metadata": {},
   "outputs": [],
   "source": [
    "import pickle\n",
    "import numpy as np\n",
    "import pandas as pd\n",
    "from sklearn.metrics import silhouette_score\n",
    "import matplotlib.pyplot as plt\n",
    "from scipy.cluster.hierarchy import fcluster\n",
    "\n",
    "# TreeNode class definition\n",
    "class TreeNode:\n",
    "    def __init__(self, left=None, right=None, filenames=None, data=None):\n",
    "        self.left = left\n",
    "        self.right = right\n",
    "        self.filenames = filenames\n",
    "        self.data = data\n",
    "\n",
    "# Load the tree\n",
    "def load_tree(input_file):\n",
    "    with open(input_file, 'rb') as f:\n",
    "        return pickle.load(f)\n",
    "\n",
    "tree = load_tree('../sample_data/combined_dendrogram.pkl')\n",
    "\n",
    "# Load the data\n",
    "embeddings = np.load('../sample_data/combined_reduced_embeddings.npz')\n",
    "filenames = pd.read_csv('../sample_data/combined_filenames.csv', header=None).values.flatten()"
   ]
  },
  {
   "cell_type": "code",
   "execution_count": 3,
   "metadata": {},
   "outputs": [
    {
     "data": {
      "text/plain": [
       "['pca5', 'tsne2', 'umap5', 'umap2']"
      ]
     },
     "execution_count": 3,
     "metadata": {},
     "output_type": "execute_result"
    }
   ],
   "source": [
    "# lists contents of embeddings\n",
    "embeddings.files\n"
   ]
  },
  {
   "cell_type": "code",
   "execution_count": null,
   "metadata": {},
   "outputs": [],
   "source": [
    "\n",
    "# Get UMAP2 reduced points\n",
    "umap2_points = embeddings['umap2']\n",
    "\n",
    "# Function to get clusters at a given level\n",
    "def get_clusters(tree, level):\n",
    "    if tree.left is None and tree.right is None:\n",
    "        return [tree.filenames]\n",
    "    \n",
    "    if level == 1:\n",
    "        return [tree.left.filenames, tree.right.filenames]\n",
    "    \n",
    "    return get_clusters(tree.left, level - 1) + get_clusters(tree.right, level - 1)\n",
    "\n",
    "# Function to display metrics\n",
    "def display_metrics(tree, level, embeddings):\n",
    "    clusters = get_clusters(tree, level)\n",
    "    cluster_labels = np.zeros(len(embeddings))\n",
    "    \n",
    "    for i, cluster in enumerate(clusters):\n",
    "        indices = [np.where(filenames == fname)[0][0] for fname in cluster]\n",
    "        cluster_labels[indices] = i\n",
    "    \n",
    "    score = silhouette_score(embeddings, cluster_labels)\n",
    "    print(f\"Silhouette score for level {level}: {score}\")\n",
    "\n",
    "# Display metrics for various levels\n",
    "for level in range(1, 6):\n",
    "    display_metrics(tree, level, embeddings['embeddings'])\n",
    "\n",
    "# Function to visualize clusters\n",
    "def visualize_clusters(tree, level, points):\n",
    "    clusters = get_clusters(tree, level)\n",
    "    \n",
    "    plt.figure(figsize=(10, 6))\n",
    "    \n",
    "    for i, cluster in enumerate(clusters):\n",
    "        indices = [np.where(filenames == fname)[0][0] for fname in cluster]\n",
    "        plt.scatter(points[indices, 0], points[indices, 1], label=f\"Cluster {i + 1}\")\n",
    "    \n",
    "    plt.legend()\n",
    "    plt.title(f\"UMAP2 reduced points visualization for level {level}\")\n",
    "    plt.xlabel(\"UMAP2-1\")\n",
    "    plt.ylabel(\"UMAP2-2\")\n",
    "    plt.show()\n",
    "\n",
    "# Visualize clusters at various levels using UMAP2 reduced points\n",
    "for level in range(1, 6):\n",
    "    visualize_clusters(tree, level, umap2_points)"
   ]
  },
  {
   "cell_type": "code",
   "execution_count": null,
   "metadata": {},
   "outputs": [],
   "source": []
  }
 ],
 "metadata": {
  "kernelspec": {
   "display_name": "cv",
   "language": "python",
   "name": "python3"
  },
  "language_info": {
   "codemirror_mode": {
    "name": "ipython",
    "version": 3
   },
   "file_extension": ".py",
   "mimetype": "text/x-python",
   "name": "python",
   "nbconvert_exporter": "python",
   "pygments_lexer": "ipython3",
   "version": "3.10.8"
  },
  "orig_nbformat": 4
 },
 "nbformat": 4,
 "nbformat_minor": 2
}
