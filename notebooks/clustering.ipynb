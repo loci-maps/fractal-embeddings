{
 "cells": [
  {
   "cell_type": "code",
   "execution_count": 1,
   "metadata": {},
   "outputs": [],
   "source": [
    "import pandas as pd\n",
    "import numpy as np"
   ]
  },
  {
   "cell_type": "code",
   "execution_count": 4,
   "metadata": {},
   "outputs": [
    {
     "ename": "AttributeError",
     "evalue": "Can't get attribute 'TreeNode' on <module '__main__'>",
     "output_type": "error",
     "traceback": [
      "\u001b[0;31m---------------------------------------------------------------------------\u001b[0m",
      "\u001b[0;31mAttributeError\u001b[0m                            Traceback (most recent call last)",
      "Cell \u001b[0;32mIn[4], line 13\u001b[0m\n\u001b[1;32m     10\u001b[0m     \u001b[39mwith\u001b[39;00m \u001b[39mopen\u001b[39m(input_file, \u001b[39m'\u001b[39m\u001b[39mrb\u001b[39m\u001b[39m'\u001b[39m) \u001b[39mas\u001b[39;00m f:\n\u001b[1;32m     11\u001b[0m         \u001b[39mreturn\u001b[39;00m pickle\u001b[39m.\u001b[39mload(f)\n\u001b[0;32m---> 13\u001b[0m tree \u001b[39m=\u001b[39m load_tree(\u001b[39m'\u001b[39;49m\u001b[39m../sample_data/combined_dendrogram.pkl\u001b[39;49m\u001b[39m'\u001b[39;49m)\n\u001b[1;32m     15\u001b[0m \u001b[39m# Load the data\u001b[39;00m\n\u001b[1;32m     16\u001b[0m embeddings \u001b[39m=\u001b[39m np\u001b[39m.\u001b[39mload(\u001b[39m'\u001b[39m\u001b[39m../sample_data/combined_reduced_embeddings.npz\u001b[39m\u001b[39m'\u001b[39m)\n",
      "Cell \u001b[0;32mIn[4], line 11\u001b[0m, in \u001b[0;36mload_tree\u001b[0;34m(input_file)\u001b[0m\n\u001b[1;32m      9\u001b[0m \u001b[39mdef\u001b[39;00m \u001b[39mload_tree\u001b[39m(input_file):\n\u001b[1;32m     10\u001b[0m     \u001b[39mwith\u001b[39;00m \u001b[39mopen\u001b[39m(input_file, \u001b[39m'\u001b[39m\u001b[39mrb\u001b[39m\u001b[39m'\u001b[39m) \u001b[39mas\u001b[39;00m f:\n\u001b[0;32m---> 11\u001b[0m         \u001b[39mreturn\u001b[39;00m pickle\u001b[39m.\u001b[39;49mload(f)\n",
      "\u001b[0;31mAttributeError\u001b[0m: Can't get attribute 'TreeNode' on <module '__main__'>"
     ]
    }
   ],
   "source": [
    "import pickle\n",
    "import numpy as np\n",
    "import pandas as pd\n",
    "from sklearn.metrics import silhouette_score\n",
    "import matplotlib.pyplot as plt\n",
    "from scipy.cluster.hierarchy import fcluster\n",
    "\n",
    "# Load the tree\n",
    "def load_tree(input_file):\n",
    "    with open(input_file, 'rb') as f:\n",
    "        return pickle.load(f)\n",
    "\n",
    "tree = load_tree('../sample_data/combined_dendrogram.pkl')\n",
    "\n",
    "# Load the data\n",
    "embeddings = np.load('../sample_data/combined_reduced_embeddings.npz')\n",
    "filenames = pd.read_csv('../sample_data/combined_filenames.csv', header=None).values.flatten()\n",
    "\n",
    "# Get UMAP2 reduced points\n",
    "umap2_points = embeddings['umap2']\n",
    "\n",
    "# Function to get clusters at a given level\n",
    "def get_clusters(tree, level):\n",
    "    if tree.left is None and tree.right is None:\n",
    "        return [tree.filenames]\n",
    "    \n",
    "    if level == 1:\n",
    "        return [tree.left.filenames, tree.right.filenames]\n",
    "    \n",
    "    return get_clusters(tree.left, level - 1) + get_clusters(tree.right, level - 1)\n",
    "\n",
    "# Function to display metrics\n",
    "def display_metrics(tree, level, embeddings):\n",
    "    clusters = get_clusters(tree, level)\n",
    "    cluster_labels = np.zeros(len(embeddings))\n",
    "    \n",
    "    for i, cluster in enumerate(clusters):\n",
    "        indices = [np.where(filenames == fname)[0][0] for fname in cluster]\n",
    "        cluster_labels[indices] = i\n",
    "    \n",
    "    score = silhouette_score(embeddings, cluster_labels)\n",
    "    print(f\"Silhouette score for level {level}: {score}\")\n",
    "\n",
    "# Display metrics for various levels\n",
    "for level in range(1, 6):\n",
    "    display_metrics(tree, level, embeddings['embeddings'])\n",
    "\n",
    "# Function to visualize clusters\n",
    "def visualize_clusters(tree, level, points):\n",
    "    clusters = get_clusters(tree, level)\n",
    "    \n",
    "    plt.figure(figsize=(10, 6))\n",
    "    \n",
    "    for i, cluster in enumerate(clusters):\n",
    "        indices = [np.where(filenames == fname)[0][0] for fname in cluster]\n",
    "        plt.scatter(points[indices, 0], points[indices, 1], label=f\"Cluster {i + 1}\")\n",
    "    \n",
    "    plt.legend()\n",
    "    plt.title(f\"UMAP2 reduced points visualization for level {level}\")\n",
    "    plt.xlabel(\"UMAP2-1\")\n",
    "    plt.ylabel(\"UMAP2-2\")\n",
    "    plt.show()\n",
    "\n",
    "# Visualize clusters at various levels using UMAP2 reduced points\n",
    "for level in range(1, 6):\n",
    "    visualize_clusters(tree, level, umap2_points)"
   ]
  }
 ],
 "metadata": {
  "kernelspec": {
   "display_name": "cv",
   "language": "python",
   "name": "python3"
  },
  "language_info": {
   "codemirror_mode": {
    "name": "ipython",
    "version": 3
   },
   "file_extension": ".py",
   "mimetype": "text/x-python",
   "name": "python",
   "nbconvert_exporter": "python",
   "pygments_lexer": "ipython3",
   "version": "3.10.8"
  },
  "orig_nbformat": 4
 },
 "nbformat": 4,
 "nbformat_minor": 2
}
